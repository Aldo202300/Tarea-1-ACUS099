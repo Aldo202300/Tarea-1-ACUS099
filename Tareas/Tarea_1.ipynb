{
 "cells": [
  {
   "cell_type": "markdown",
   "id": "6d2f1f3f-705e-404a-8c44-a41cb55ff93b",
   "metadata": {},
   "source": [
    "<h1 style= 'text-align: center;'> Tarea 1: Resumen de lo aprendido </h1>\n",
    "\n",
    "<p style=\"text-align:center\">\n",
    "<img src=\"logo_uach-614a369aa9528.png\"\n",
    "width=\"600\" height=\"600\" alt=\"Tiny\">\n",
    "\n",
    "<p style='text-align: center;'><em>Integrantes: Aldo Henríquez y Mauricio Martínez</em></p>\n",
    "<p style='text-align: center;'><em>Profesor: Victor Poblete</em></p>\n",
    "<p style='text-align: center;'><em>Ayudante: Esteban Vargas</em></p>"
   ]
  },
  {
   "cell_type": "markdown",
   "id": "9cc09a0a-0cca-4f47-a0e4-4b8687f8ed69",
   "metadata": {},
   "source": [
    "# Índice \n",
    "+ Introducción\n",
    "+ Miniconda y Conda\n",
    "+ Python y Jupyter notebook  \n",
    "+ Uso del terminal \n",
    "+ Uso de Jupyter Notebook \n",
    "+ Uso de Git y Github\n",
    "+ Transformada de Fourier \n",
    "+ Señales discretas y continuas \n",
    "\n",
    "\n",
    "# Introducción\n",
    "El siguiente informe tiene como objetivo la finalidad de resumir el contenido visto en clases de procesamiento digital de señales."
   ]
  },
  {
   "cell_type": "markdown",
   "id": "99d27d6f-21ae-448c-8790-d92f4f76e4be",
   "metadata": {},
   "source": [
    "# Miniconda y Conda \n",
    "Miniconda es una distribución más ligera de Anaconda, el cual incluye solo lo necesario para ejecutar Conda. Este último es un gestor de paquetes que permite la instalación, actualización y ejecución de librerias en Python. También entrega la posibilidad de crear entornos virtuales, ya sea de código abierto o de multiplataforma. Estos son necesarios para trabajar en proyectos y no crear interferencias entre programas previamente instalados en el computador.\n",
    "\n",
    "* El primer paso fue descargar e instalar **Miniconda** con el siguiente link [Descargar Miniconda](https://docs.anaconda.com//free/miniconda/) y configurarlo según tu sistema operativo y necesidades. \n",
    "* Luego hay que entrar en la terminal, con el comando de Windows + r, e ingresar \"cmd\". Para así, escribir \"conda activate base\" para activar conda. \n",
    "* Después se crea el entorno virtual. Abierta la terminal, se introduce el comando **conda create -n 'nombre_del_entorno'**.\n",
    "* Para despues abrirlo con el comando \"conda activate acus099\" en nuestro caso.   \n",
    "# Python \n",
    "* Luego se instala python con el comando **conda install python** \n",
    "* Después se instalan las librerias con el comando **pip install** o **conda install** (Las que se instalaron en el curso fueron **numpy, scipy, matplotlib, pandas, soundfile y librosa**)\n",
    "* Posteriormente se instala Jupyter Notebook y el ipykernel con los comandos **pip install jupyter** y pip install ipykernell respectivamente\n",
    "* Finalmente se instala el kernel de python en el jupyter con el siguiente codigo **python -m ipykernel install --user --name=nombre_entorno**\n",
    "# GIT \n",
    "De esta manera el entorno queda funcionando correctamente, sin embargo hay que instalar el software Git que es una herramienta para el control de versiones y poder trabajar en equipo y de manera remota de fomrma más sencilla a traves de los \"commits\", siendo esto un sistema de control de versiones, que nos ayuda a recordar cambios aplicados con sus respectivas fechas.\n",
    "Luego se llevo a cabo la creación de una cuenta en Github y asi descargar el software Visual Studio Code, para lograr una vinculación entre estos.\n",
    "\n",
    "# Uso del Markdown\n",
    "En esta clase se aprendio algunas nociones basicas del funcionamiento de jupyter notebook que es una plataforma multilenguaje de codigo abierto.\n",
    "Esta utiliza lenguajes como Python, Matlab, Julia, R, entre muchos otros. Se aprendio como crear archivos en los directorios y a utilizar markdown, con codigos basicos de texto, para poder crear titulos, agregar imagenes o poder escribir ecuaciones. También se aprendio un poco sobre su estructura y que ésta corre los codigos en forma de lineas o celdas.\n",
    "  Algunos de los codigos que se vieron fue para crear textos como titulos con el simbolo \"#\" de la siguiente manera:\n",
    "# MARKDOWN\n",
    "## MARKDOWN\n",
    "### MARKDOWN\n",
    "De igual forma se aprendió a utilizar puntos con el simbolos \"*\" o \"+\"\n",
    "* Introducción\n",
    "+ Introducción\n",
    "\n",
    "\n",
    "También se vió como escribir ecuaciones de dos maneras diferentes \n",
    " \n",
    "\n",
    "$$a^2+b^2=c^2$$\n",
    "\n",
    "$$\\mathcal{F(w)}=\\int_{-\\infty}^{\\infty}\\mathcal{f(t)e}^{-jwt}$$\n",
    "Se aprendió como escribir en *cursiva* con el asteristo antes y después de una palabra u oracion y en **negro** con dos asteriscos\n"
   ]
  },
  {
   "cell_type": "markdown",
   "id": "b66c3614-857d-4c83-bbe3-5ffd77e8e36d",
   "metadata": {},
   "source": [
    "# Enlaces\n",
    "Como también aprendimos, se pueden insertar enlaces, los cuales muchas veces redirigen al usuario a la página que se muestra.\n",
    " El siguiente ejemplo ilustra como se inserta un hipervínculo https://www.youtube.com"
   ]
  },
  {
   "cell_type": "markdown",
   "id": "4bf75951",
   "metadata": {},
   "source": [
    "# Uso de Jupyter Notebook\n",
    "Para comenzar con el uso de jupyter notebook, se necesita primero que todo, abrir la terminal y asimismo el entorno virtual en la carpeta destinada para asi guardar los datos en ella, luego de esto, se escribe \"jupyter notebook\" y al cabo de unos segundos abrirá la aplicación en el navegador, donde permitirá utilizarlo como cuaderno, terminal, HTML, entre otros. Y asi, al abrirlo como cuaderno, dará las opciones de guardado, nombre del archivo, la enumeración de cada celda, etc.\n",
    "\n",
    "# Uso de Git y Github\n",
    "\n"
   ]
  }
 ],
 "metadata": {
  "kernelspec": {
   "display_name": "acus099",
   "language": "python",
   "name": "acus099"
  },
  "language_info": {
   "codemirror_mode": {
    "name": "ipython",
    "version": 3
   },
   "file_extension": ".py",
   "mimetype": "text/x-python",
   "name": "python",
   "nbconvert_exporter": "python",
   "pygments_lexer": "ipython3",
   "version": "3.9.19"
  }
 },
 "nbformat": 4,
 "nbformat_minor": 5
}
