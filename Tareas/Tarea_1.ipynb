{
 "cells": [
  {
   "cell_type": "markdown",
   "id": "6d2f1f3f-705e-404a-8c44-a41cb55ff93b",
   "metadata": {},
   "source": [
    "<h1 style= 'text-align: center;'> Tarea 1: Resumen de lo aprendido </h1>\n",
    "\n",
    "<p style=\"text-align:center\">\n",
    "<img src=\"logo_uach-614a369aa9528.png\"\n",
    "width=\"600\" height=\"600\" alt=\"Tiny\">\n",
    "\n",
    "<p style='text-align: center;'><em>Integrantes: Aldo Henríquez y Mauricio Martínez</em></p>\n",
    "<p style='text-align: center;'><em>Profesor: Victor Poblete</em></p>\n",
    "<p style='text-align: center;'><em>Ayudante: Esteban Vargas</em></p>"
   ]
  },
  {
   "cell_type": "markdown",
   "id": "9cc09a0a-0cca-4f47-a0e4-4b8687f8ed69",
   "metadata": {},
   "source": [
    "# Índice \n",
    "* [Introducción](#id1)\n",
    "* [Terminal](#id2)\n",
    "* [Softwares](#id3)\n",
    "    * [Miniconda y Conda](#id3.1)\n",
    "    * [Python](#id3.2)\n",
    "    * [Git y Github](#id3.3)\n",
    "    * [Jupyter Notebook](#id3.4)\n",
    "    * [Visual Studio Code](#id3.5)\n",
    "* [Transformada de fourier](#id4)\n",
    "* [Señales discretas y continuas](#id5)\n",
    "\n",
    "# Introducción <a name='id1'></a>\n",
    "El siguiente informe tiene como objetivo explicar la instalación y funcionamiento basico de los softwares utilizados en la asignatura procesamiento digital de señal. Estas son las herramientas básicas necesarias para llevar acabo el curso ACUS099. Se indagará de manera breve sobre el lenguaje de programación empleado tales como Python, HTML, Markdown entre otros que serán necesarios saber utilizar. Igual se explicara el uso basico del Terminal para llevar a cabo ciertos procesos fundamentales ya sea en la instalacion de sofwares, localizar archivos, entre otros."
   ]
  },
  {
   "cell_type": "markdown",
   "id": "a2a15580-5277-4952-bc03-303d79598c56",
   "metadata": {},
   "source": [
    "# Terminal\n",
    "Para comenzar a introducirse al procesamiento digital de señales el primer paso es conocer el Terminal tambien llamado Simbolo del sistema, consola o CMD. Para abrir la terminal se puede hacer desde el menu de inicio en windows escribiendo \"Simbolo del sistema\" o directamente precionando la tecla windows + R.\n",
    "esto abrirá un pequeña ventana donde se debe escribir cmd y luego en aceptar, de esta manera se abre la terminal como se muestra en la siguientes imagenes.\n",
    "\n",
    "<p style=\"text-align:center\">\n",
    "<img src=\"cmd.png\"\n",
    "width=\"350\" height=\"350\" alt=\"Tiny\">\n",
    "<figcaption style=\"text-align: center; font-style: italic;\">Figura 1</figcaption>\n",
    "<p style=\"text-align:center\">\n",
    "<img src=\"terminal.png\"\n",
    "width=\"350\" height=\"350\" alt=\"Tiny\">\n",
    "<figcaption style=\"text-align: center; font-style: italic;\">Figura 2</figcaption>\n",
    "\n",
    "En la figura numero 2 se puede apreciar la Terminal, ésta es una interfaz de texto base de cualquier sistema operativo el cual permite interactuar con el sistema operativo de manera directa mediante codigos, ya que lo que comunmente nosotros observamos en un computador es la interfaz grafica sin embargo en el CMD tenemos acceso directo a varias funcionalidades y herramientas del sistema.\n",
    "Algunas de sus utilidades basicas son:\n",
    "* Navegación del sistema de archivos: Permite moverse entre directorios, ver archivos y carpetas, y administrarlos.\n",
    "\n",
    "* Gestión de archivos y directorios: Crear, eliminar, copiar, mover o renombrar archivos y carpetas.\n",
    "\n",
    "* Ejecución de programas y utilidades: Ejecutar programas y utilidades del sistema operativo, así como scripts y comandos personalizados.\n",
    "\n",
    "* Automatización de tareas: Es posible automatizar tareas repetitivas utilizando scripts de shell, que son programas que contienen una secuencia de comandos de terminal.\n",
    "\n",
    "* Configuración del sistema: Cambiar la configuración del sistema, instalar y actualizar software, y administrar servicios y procesos en ejecución.\n",
    "\n",
    "* Diagnóstico y solución de problemas: Realizar diagnósticos del sistema, comprobar el estado de los recursos del sistema, y solucionar problemas utilizando herramientas de línea de comandos.\n",
    "\n",
    "Para el curso de ACUS099 es necesario saber lo básico de la terminal para poder navegar en ella, algunos de los comandos básicos son los siguientes:\n",
    "* cd [destino] – Cambiamos de directorio\n",
    "* cd .. – Regresamos un directorio atrás\n",
    "* dir – Muestra los directorios que hay en nuestra posición actual\n",
    "* mkdir [nombre carpeta] – Hacemos un directorio\n",
    "* del [nombre archivo] – Eliminamos un archivo\n",
    "\n"
   ]
  },
  {
   "cell_type": "markdown",
   "id": "99d27d6f-21ae-448c-8790-d92f4f76e4be",
   "metadata": {},
   "source": [
    "# Softwares <a name='id3'></a>\n",
    "\n",
    "# Miniconda y Conda <a name='id3.1'></a>\n",
    "Miniconda es una distribución más ligera de Anaconda, el cual incluye solo lo necesario para ejecutar Conda. Este último es un gestor de paquetes que permite la instalación, actualización y ejecución de librerias en Python. También entrega la posibilidad de crear entornos virtuales, ya sea de código abierto o de multiplataforma. Estos son necesarios para trabajar en proyectos y no crear interferencias entre programas previamente instalados en el computador.\n",
    "\n",
    "* El primer paso fue descargar e instalar **Miniconda** con el siguiente link [Descargar Miniconda](https://docs.anaconda.com//free/miniconda/) y configurarlo según tu sistema operativo y necesidades. \n",
    "* Luego hay que entrar en la terminal, con el comando de Windows + r, e ingresar \"cmd\". Para así, escribir \"conda activate base\" para activar conda. \n",
    "* Después se crea el entorno virtual. Abierta la terminal, se introduce el comando **conda create -n 'nombre_del_entorno'**.\n",
    "* Para despues abrirlo con el comando \"conda activate acus099\" en nuestro caso.\n",
    "  \n",
    "# Python <a name='id3.2'></a>\n",
    "* Luego se instala python con el comando **conda install python** \n",
    "* Después se instalan las librerias con el comando **pip install** o **conda install** (Las que se instalaron en el curso fueron **numpy, scipy, matplotlib, pandas, soundfile y librosa**)\n",
    "* Posteriormente se instala Jupyter Notebook y el ipykernel con los comandos **pip install jupyter** y pip install ipykernell respectivamente\n",
    "* Finalmente se instala el kernel de python en el jupyter con el siguiente codigo **python -m ipykernel install --user --name=nombre_entorno**\n",
    "  \n",
    "# GIT y Github <a name='id3.3'></a>\n",
    "De esta manera el entorno queda funcionando correctamente, sin embargo hay que instalar el software Git que es una herramienta para el control de versiones y poder trabajar en equipo y de manera remota de fomrma más sencilla a traves de los \"commits\", siendo esto un sistema de control de versiones, que nos ayuda a recordar cambios aplicados con sus respectivas fechas.\n",
    "Luego se llevo a cabo la creación de una cuenta en Github y asi descargar el software Visual Studio Code, para lograr una vinculación entre estos. Github por otro lado, es una plataforma web que utiliza Git para el desarrollo de software, permitiendo asi, alojar sus repositorios, compartirlos y colaborar con otros desarrolladores.\n",
    "\n",
    "# Jupyter Notebook <a name='id3.4'></a>\n",
    "Jupyter Notebook es una aplicación web de codigo abierto multilenguaje, capaz de usar lenguajes como R, Python, HTML entre otros, es muy util y practico para la programación, el analisis de datos, creación de informes, entre otras usos.  Gracias a que tambien funciona con Markdown permite que los documentos creados puedan ser mas comprensibles. El formato que utiliza jupyter son los archivos .ipynb que son archivos faciles de compartir.\n",
    "Para comenzar con el uso de jupyter notebook, se necesita primero que todo, abrir la terminal y activar el entorno virtual en una carpeta destinada para guardar los datos en ella, luego de esto, se escribe el comando \"jupyter notebook\" y al cabo de unos segundos abrirá la aplicación en el navegador, donde se podrá utilizar como cuadernillo. Al abrirlo, dará las opciones para crear archivos, de guardado, para nombrar los archivos, activar la enumeración de cada celda, y también elegir el kernel del entorno virtual que deseemos utilizar.\n",
    "\n",
    "<p style=\"text-align:center\">\n",
    "<img src=\"Captura.png\"\n",
    "width=\"500\" height=\"500\" alt=\"Tiny\">\n",
    "<figcaption style=\"text-align: center; font-style: italic;\">Figura 3: Visualizacion de Jupyter Notebook</figcaption>\n",
    "\n",
    "\n",
    "# Visual Studio Code <a name='id3.5'></a>\n",
    "\n",
    "Visual Studio Code (VS Code) es un editor de código fuente muy popular desarrollado por Microsoft. Es software libre y multiplataforma el cual esta disponible para sistemas operativos como macOS, Linux y windows. VS Code tiene una buena integración con Git, también dispone de un sinnúmero de extensiones, que da la posibilidad de escribir y ejecutar en codigo en cualquier lenguaje de programacion.\n",
    "\n",
    "<p style=\"text-align:center\">\n",
    "<img src=\"Captura2.png\"\n",
    "width=\"500\" height=\"500\" alt=\"Tiny\">\n",
    "<figcaption style=\"text-align: center; font-style: italic;\">Figura 4: Visualizacion de Visual Studio Code</figcaption>\n",
    "\n",
    "# Uso del Markdown\n",
    "En esta clase se aprendio algunas nociones basicas del funcionamiento de jupyter notebook que es una plataforma multilenguaje de codigo abierto.\n",
    "Esta utiliza lenguajes como Python, Matlab, Julia, R, entre muchos otros. Se aprendio como crear archivos en los directorios y a utilizar markdown, con codigos basicos de texto, para poder crear titulos, agregar imagenes o poder escribir ecuaciones. También se aprendio un poco sobre su estructura y que ésta corre los codigos en forma de lineas o celdas.\n",
    "  Algunos de los codigos que se vieron fue para crear textos como titulos con el simbolo \"#\" de la siguiente manera:\n",
    "# MARKDOWN\n",
    "## MARKDOWN\n",
    "### MARKDOWN\n",
    "De igual forma se aprendió a utilizar puntos con el simbolos \"*\" o \"+\"\n",
    "* Introducción\n",
    "+ Introducción\n",
    "\n",
    "\n",
    "También se vió como escribir ecuaciones de dos maneras diferentes \n",
    " \n",
    "\n",
    "$$a^2+b^2=c^2$$\n",
    "\n",
    "$$\\mathcal{F(w)}=\\int_{-\\infty}^{\\infty}\\mathcal{f(t)e}^{-jwt}$$\n",
    "Se aprendió como escribir en *cursiva* con el asteristo antes y después de una palabra u oracion y en **negro** con dos asteriscos"
   ]
  },
  {
   "cell_type": "markdown",
   "id": "b66c3614-857d-4c83-bbe3-5ffd77e8e36d",
   "metadata": {},
   "source": [
    "# Enlaces\n",
    "Como también aprendimos, se pueden insertar enlaces, los cuales muchas veces redirigen al usuario a la página que se muestra.\n",
    " El siguiente ejemplo ilustra como se inserta un hipervínculo https://www.youtube.com"
   ]
  },
  {
   "cell_type": "markdown",
   "id": "4bf75951",
   "metadata": {},
   "source": [
    "# Función Delta de Dirac \n",
    "A continuación, se definirá la función delta mostrada en el curso, y su gráfico respectivamente. "
   ]
  },
  {
   "cell_type": "code",
   "execution_count": 4,
   "id": "245ed870-27e4-40af-ad0b-3f702e2e1363",
   "metadata": {},
   "outputs": [
    {
     "name": "stdout",
     "output_type": "stream",
     "text": [
      "[-11 -10  -9  -8  -7  -6  -5  -4  -3  -2  -1   0   1   2   3   4   5   6\n",
      "   7   8   9  10]\n",
      "[-11 -10  -9  -8  -7  -6  -5  -4  -3  -2  -1   0   1   2   3   4   5   6\n",
      "   7   8   9  10]\n"
     ]
    },
    {
     "data": {
      "image/png": "[encoded data removed]",
      "text/plain": [
       "<Figure size 1000x300 with 1 Axes>"
      ]
     },
     "metadata": {},
     "output_type": "display_data"
    }
   ],
   "source": [
    "import numpy as np  # Librería de gráfico \n",
    "import matplotlib.pyplot as plt # Librería del dominio \n",
    "\n",
    "def delta(n):\n",
    "    print(n)\n",
    "    return 1.*(n==0)\n",
    "n= np.arange(-11,11)  \n",
    "d=delta(n)\n",
    "\n",
    "plt.figure(figsize=(10, 3))\n",
    "plt.figure(1)\n",
    "plt.stem(n,delta(n));\n"
   ]
  },
  {
   "cell_type": "markdown",
   "id": "69066f3d-0949-4fcc-a702-3888f1f880dc",
   "metadata": {},
   "source": [
    "# Función Delta Escalón \n",
    "Por otro lado, tenemos la función delta escalón y su gráfico. "
   ]
  },
  {
   "cell_type": "code",
   "execution_count": 3,
   "id": "026adfd7-0e9a-472d-9db7-37bc38623ac1",
   "metadata": {},
   "outputs": [
    {
     "data": {
      "image/png": "[encoded data removed]",
      "text/plain": [
       "<Figure size 1000x300 with 1 Axes>"
      ]
     },
     "metadata": {},
     "output_type": "display_data"
    }
   ],
   "source": [
    "def delta(n):\n",
    "    return 1.*(n>0)\n",
    "\n",
    "n= np.arange(-11,11)\n",
    "d=delta(n)\n",
    "plt.figure(figsize=(10, 3))\n",
    "plt.figure(1)\n",
    "plt.stem(n,delta(n));"
   ]
  },
  {
   "cell_type": "code",
   "execution_count": null,
   "id": "0bb9339b-677a-44aa-8b45-750c80513800",
   "metadata": {},
   "outputs": [],
   "source": []
  }
 ],
 "metadata": {
  "kernelspec": {
   "display_name": "ACUS099",
   "language": "python",
   "name": "acus099"
  },
  "language_info": {
   "codemirror_mode": {
    "name": "ipython",
    "version": 3
   },
   "file_extension": ".py",
   "mimetype": "text/x-python",
   "name": "python",
   "nbconvert_exporter": "python",
   "pygments_lexer": "ipython3",
   "version": "3.9.4"
  }
 },
 "nbformat": 4,
 "nbformat_minor": 5
}
