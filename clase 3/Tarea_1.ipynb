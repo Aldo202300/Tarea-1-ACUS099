{
 "cells": [
  {
   "cell_type": "markdown",
   "id": "6d2f1f3f-705e-404a-8c44-a41cb55ff93b",
   "metadata": {},
   "source": [
    "<h1 style= 'text-align: center;'> Tarea 1: Resumen de lo aprendido </h1>>'\n",
    "\n",
    "<p style=\"text-align:center\">\n",
    "<img src=\"logo_uach-614a369aa9528.png\"\n",
    "width=\"600\" height=\"600\" alt=\"Tiny\">\n",
    "\n",
    "<p style='text-align: center;'><em>Integrantes: Aldo Henríquez y Mauricio Martínez</em></p>\n",
    "<p style='text-align: center;'><em>Profesor: Victor Poblete</em></p>\n",
    "<p style='text-align: center;'><em>Ayudante: Esteban Vargas</em></p>"
   ]
  },
  {
   "cell_type": "markdown",
   "id": "9cc09a0a-0cca-4f47-a0e4-4b8687f8ed69",
   "metadata": {},
   "source": [
    "# Índice \n",
    "+ Introducción \n",
    "+ Qué es un entorno virtual \n",
    "+ Instalación de software \n",
    "+ Uso del terminal \n",
    "+ Uso de Jupyter Notebook \n",
    "+ Transformada de Fourier \n",
    "+ Señales discretas y continuas \n",
    "# Introducción\n",
    "El siguiente informe tiene como objetivo la finalidad de resumir el contenido visto en clases de procesamiento digital de señales."
   ]
  },
  {
   "cell_type": "markdown",
   "id": "99d27d6f-21ae-448c-8790-d92f4f76e4be",
   "metadata": {},
   "source": [
    "# Primera Clase\n",
    "En la primera clase se vio con ejemplos visuales que es una señal como tal, sus diferentes caracteristicas propiedades y sus componentes.\n",
    "# Segunda Clase\n",
    "Se empezo a instalar los programas necesarios para el curso. Se aprendió sobre los entornos virtuales y lo necesario que son para trabajar y no crear incompatibilidades entre programas previamente instalados en el computador.\n",
    "\n",
    "El primer paso fue descargar e instalar **Miniconda** con el cual se pueden crear los entornos virtuales, el procedimiento para crear los entornos virtuales desde la consola es el siguiente:\n",
    "* Primero se crea el entorno con el comando **conda create -n 'nombre_del_entorno'**.\n",
    "* Luego se instala python con el comando **python = version** (Aunque se puede elegir entre diversas versiones con **conda search python** y el **Build** para especificar de manera mas precisa de donde descargar python).\n",
    "* Después se pueden instalar las librerias con el comando **pip install** o **conda install** (Las que se instalaron en el curso fueron **Matplotlib, numpy**)\n",
    "* Posteriormente se instala Jupyter Notebook y el ipykernel con los comandos **pip install jupyter** y pip install ipykernell respectivamente\n",
    "* Finalmente se instala el kernel de python en el jupyter con el siguiente codigo **python -m ipykernel install --user --name=nombre_entorno**\n",
    "\n",
    "De esta manera el entorno queda funcionando correctamente sin embargo hay que instalar Git que es una herramienta para el control de versiones y poder trabajar en equipo y de manera remota de fomrma más sencilla a traves de los \"commits\".\n",
    "Tambien se procedio a crearse una cuenta en Github y descargar el software visual studio code.\n",
    "\n",
    "# Tercera clase\n",
    "En esta clase se aprendio algunas nociones basicas del funcionamiento de jupyter notebook que es una plataforma multilenguaje de codigo abierto.\n",
    "Esta utiliza lenguajes como Python, Matlab, Julia, R, entre muchos otros. Se aprendio como crear archivos en los directorios y a utilizar markdown, con codigos basicos de texto, para poder crear titulos, agregar imagenes o poder escribir ecuaciones. También se aprendio un poco sobre su estructura y que ésta corre los codigos en forma de lineas o celdas.\n",
    "  Algunos de los codigos que se vieron fue para crear textos como titulos con el simbolo \"#\" de la siguiente manera:\n",
    "# MARKDOWN\n",
    "## MARKDOWN\n",
    "### MARKDOWN\n",
    "De igual forma se aprendio a utilizar puntos con el simbolos \"*\" o \"+\"\n",
    "* Introducción\n",
    "+ Introducción\n",
    "\n",
    "\n",
    "También se vio como crear ecuaciones de dos maneras diferentes\\\n",
    "$a^2+b^2=c^2$ \\\n",
    "\n",
    "$$a^2+b^2=c^2$$\n",
    "\\begin{equation}\n",
    "a^2+b^2=c^2\n",
    "\\end{equation}\n",
    "Se aprendió como escribir en *cursiva* con el asteriscto antes y despues de una palabra u oracion y en **negro** con dos asteriscos\n"
   ]
  },
  {
   "cell_type": "markdown",
   "id": "b66c3614-857d-4c83-bbe3-5ffd77e8e36d",
   "metadata": {},
   "source": [
    "+ Enlaces\n",
    " > el siguiente ejemplo ilustra como se inserta un supervinculo https://www.youtube.com"
   ]
  },
  {
   "cell_type": "code",
   "execution_count": null,
   "id": "d884f9fa-6f77-460f-8288-d431ebc4f896",
   "metadata": {},
   "outputs": [],
   "source": []
  }
 ],
 "metadata": {
  "kernelspec": {
   "display_name": "acus099",
   "language": "python",
   "name": "acus099"
  },
  "language_info": {
   "codemirror_mode": {
    "name": "ipython",
    "version": 3
   },
   "file_extension": ".py",
   "mimetype": "text/x-python",
   "name": "python",
   "nbconvert_exporter": "python",
   "pygments_lexer": "ipython3",
   "version": "3.9.4"
  }
 },
 "nbformat": 4,
 "nbformat_minor": 5
}
